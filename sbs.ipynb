{
 "cells": [
  {
   "cell_type": "markdown",
   "metadata": {},
   "source": [
    "## SMS Spam Classifier: Multinomial Naive Bayes\n"
   ]
  },
  {
   "cell_type": "code",
   "execution_count": 1,
   "metadata": {},
   "outputs": [
    {
     "data": {
      "text/html": [
       "<div>\n",
       "<style scoped>\n",
       "    .dataframe tbody tr th:only-of-type {\n",
       "        vertical-align: middle;\n",
       "    }\n",
       "\n",
       "    .dataframe tbody tr th {\n",
       "        vertical-align: top;\n",
       "    }\n",
       "\n",
       "    .dataframe thead th {\n",
       "        text-align: right;\n",
       "    }\n",
       "</style>\n",
       "<table border=\"1\" class=\"dataframe\">\n",
       "  <thead>\n",
       "    <tr style=\"text-align: right;\">\n",
       "      <th></th>\n",
       "      <th>Class</th>\n",
       "      <th>sms</th>\n",
       "    </tr>\n",
       "  </thead>\n",
       "  <tbody>\n",
       "    <tr>\n",
       "      <th>0</th>\n",
       "      <td>ham</td>\n",
       "      <td>Go until jurong point, crazy.. Available only ...</td>\n",
       "    </tr>\n",
       "    <tr>\n",
       "      <th>1</th>\n",
       "      <td>ham</td>\n",
       "      <td>Ok lar... Joking wif u oni...</td>\n",
       "    </tr>\n",
       "    <tr>\n",
       "      <th>2</th>\n",
       "      <td>spam</td>\n",
       "      <td>Free entry in 2 a wkly comp to win FA Cup fina...</td>\n",
       "    </tr>\n",
       "    <tr>\n",
       "      <th>3</th>\n",
       "      <td>ham</td>\n",
       "      <td>U dun say so early hor... U c already then say...</td>\n",
       "    </tr>\n",
       "    <tr>\n",
       "      <th>4</th>\n",
       "      <td>ham</td>\n",
       "      <td>Nah I don't think he goes to usf, he lives aro...</td>\n",
       "    </tr>\n",
       "  </tbody>\n",
       "</table>\n",
       "</div>"
      ],
      "text/plain": [
       "  Class                                                sms\n",
       "0   ham  Go until jurong point, crazy.. Available only ...\n",
       "1   ham                      Ok lar... Joking wif u oni...\n",
       "2  spam  Free entry in 2 a wkly comp to win FA Cup fina...\n",
       "3   ham  U dun say so early hor... U c already then say...\n",
       "4   ham  Nah I don't think he goes to usf, he lives aro..."
      ]
     },
     "execution_count": 1,
     "metadata": {},
     "output_type": "execute_result"
    }
   ],
   "source": [
    "import pandas as pd\n",
    "docs = pd.read_table('SMSSpamCollection', header=None, names=['Class','sms'])\n",
    "docs.head()"
   ]
  },
  {
   "cell_type": "code",
   "execution_count": 2,
   "metadata": {},
   "outputs": [
    {
     "data": {
      "text/plain": [
       "5572"
      ]
     },
     "execution_count": 2,
     "metadata": {},
     "output_type": "execute_result"
    }
   ],
   "source": [
    "len(docs)"
   ]
  },
  {
   "cell_type": "code",
   "execution_count": 3,
   "metadata": {},
   "outputs": [],
   "source": [
    "ham_spam = docs.Class.value_counts(normalize=True)"
   ]
  },
  {
   "cell_type": "code",
   "execution_count": 4,
   "metadata": {},
   "outputs": [
    {
     "data": {
      "text/plain": [
       "ham     0.865937\n",
       "spam    0.134063\n",
       "Name: Class, dtype: float64"
      ]
     },
     "execution_count": 4,
     "metadata": {},
     "output_type": "execute_result"
    }
   ],
   "source": [
    "ham_spam"
   ]
  },
  {
   "cell_type": "code",
   "execution_count": 5,
   "metadata": {},
   "outputs": [
    {
     "data": {
      "text/html": [
       "<div>\n",
       "<style scoped>\n",
       "    .dataframe tbody tr th:only-of-type {\n",
       "        vertical-align: middle;\n",
       "    }\n",
       "\n",
       "    .dataframe tbody tr th {\n",
       "        vertical-align: top;\n",
       "    }\n",
       "\n",
       "    .dataframe thead th {\n",
       "        text-align: right;\n",
       "    }\n",
       "</style>\n",
       "<table border=\"1\" class=\"dataframe\">\n",
       "  <thead>\n",
       "    <tr style=\"text-align: right;\">\n",
       "      <th></th>\n",
       "      <th>Class</th>\n",
       "      <th>sms</th>\n",
       "      <th>label</th>\n",
       "    </tr>\n",
       "  </thead>\n",
       "  <tbody>\n",
       "    <tr>\n",
       "      <th>0</th>\n",
       "      <td>ham</td>\n",
       "      <td>Go until jurong point, crazy.. Available only ...</td>\n",
       "      <td>0</td>\n",
       "    </tr>\n",
       "    <tr>\n",
       "      <th>1</th>\n",
       "      <td>ham</td>\n",
       "      <td>Ok lar... Joking wif u oni...</td>\n",
       "      <td>0</td>\n",
       "    </tr>\n",
       "    <tr>\n",
       "      <th>2</th>\n",
       "      <td>spam</td>\n",
       "      <td>Free entry in 2 a wkly comp to win FA Cup fina...</td>\n",
       "      <td>1</td>\n",
       "    </tr>\n",
       "    <tr>\n",
       "      <th>3</th>\n",
       "      <td>ham</td>\n",
       "      <td>U dun say so early hor... U c already then say...</td>\n",
       "      <td>0</td>\n",
       "    </tr>\n",
       "    <tr>\n",
       "      <th>4</th>\n",
       "      <td>ham</td>\n",
       "      <td>Nah I don't think he goes to usf, he lives aro...</td>\n",
       "      <td>0</td>\n",
       "    </tr>\n",
       "  </tbody>\n",
       "</table>\n",
       "</div>"
      ],
      "text/plain": [
       "  Class                                                sms  label\n",
       "0   ham  Go until jurong point, crazy.. Available only ...      0\n",
       "1   ham                      Ok lar... Joking wif u oni...      0\n",
       "2  spam  Free entry in 2 a wkly comp to win FA Cup fina...      1\n",
       "3   ham  U dun say so early hor... U c already then say...      0\n",
       "4   ham  Nah I don't think he goes to usf, he lives aro...      0"
      ]
     },
     "execution_count": 5,
     "metadata": {},
     "output_type": "execute_result"
    }
   ],
   "source": [
    "# spam is the postive class and its only 13 percent in the data\n",
    "docs['label'] = docs.Class.map({'ham':0, 'spam':1})\n",
    "docs.head()"
   ]
  },
  {
   "cell_type": "code",
   "execution_count": 6,
   "metadata": {},
   "outputs": [
    {
     "data": {
      "text/html": [
       "<div>\n",
       "<style scoped>\n",
       "    .dataframe tbody tr th:only-of-type {\n",
       "        vertical-align: middle;\n",
       "    }\n",
       "\n",
       "    .dataframe tbody tr th {\n",
       "        vertical-align: top;\n",
       "    }\n",
       "\n",
       "    .dataframe thead th {\n",
       "        text-align: right;\n",
       "    }\n",
       "</style>\n",
       "<table border=\"1\" class=\"dataframe\">\n",
       "  <thead>\n",
       "    <tr style=\"text-align: right;\">\n",
       "      <th></th>\n",
       "      <th>sms</th>\n",
       "      <th>label</th>\n",
       "    </tr>\n",
       "  </thead>\n",
       "  <tbody>\n",
       "    <tr>\n",
       "      <th>0</th>\n",
       "      <td>Go until jurong point, crazy.. Available only ...</td>\n",
       "      <td>0</td>\n",
       "    </tr>\n",
       "    <tr>\n",
       "      <th>1</th>\n",
       "      <td>Ok lar... Joking wif u oni...</td>\n",
       "      <td>0</td>\n",
       "    </tr>\n",
       "    <tr>\n",
       "      <th>2</th>\n",
       "      <td>Free entry in 2 a wkly comp to win FA Cup fina...</td>\n",
       "      <td>1</td>\n",
       "    </tr>\n",
       "    <tr>\n",
       "      <th>3</th>\n",
       "      <td>U dun say so early hor... U c already then say...</td>\n",
       "      <td>0</td>\n",
       "    </tr>\n",
       "    <tr>\n",
       "      <th>4</th>\n",
       "      <td>Nah I don't think he goes to usf, he lives aro...</td>\n",
       "      <td>0</td>\n",
       "    </tr>\n",
       "  </tbody>\n",
       "</table>\n",
       "</div>"
      ],
      "text/plain": [
       "                                                 sms  label\n",
       "0  Go until jurong point, crazy.. Available only ...      0\n",
       "1                      Ok lar... Joking wif u oni...      0\n",
       "2  Free entry in 2 a wkly comp to win FA Cup fina...      1\n",
       "3  U dun say so early hor... U c already then say...      0\n",
       "4  Nah I don't think he goes to usf, he lives aro...      0"
      ]
     },
     "execution_count": 6,
     "metadata": {},
     "output_type": "execute_result"
    }
   ],
   "source": [
    "docs = docs.drop('Class', axis=1)\n",
    "docs.head()"
   ]
  },
  {
   "cell_type": "code",
   "execution_count": 7,
   "metadata": {},
   "outputs": [
    {
     "name": "stdout",
     "output_type": "stream",
     "text": [
      "(5572,)\n",
      "(5572,)\n"
     ]
    }
   ],
   "source": [
    "X = docs.sms\n",
    "y = docs.label\n",
    "print(X.shape)\n",
    "print(y.shape)"
   ]
  },
  {
   "cell_type": "code",
   "execution_count": 8,
   "metadata": {},
   "outputs": [],
   "source": [
    "from sklearn.model_selection import train_test_split\n",
    "X_train, X_test, y_train , y_test  =train_test_split(X,y,random_state=1)"
   ]
  },
  {
   "cell_type": "code",
   "execution_count": 9,
   "metadata": {},
   "outputs": [
    {
     "data": {
      "text/plain": [
       "710     4mths half price Orange line rental & latest c...\n",
       "3740                           Did you stitch his trouser\n",
       "2711    Hope you enjoyed your new content. text stop t...\n",
       "3155    Not heard from U4 a while. Call 4 rude chat pr...\n",
       "3748    Ü neva tell me how i noe... I'm not at home in...\n",
       "Name: sms, dtype: object"
      ]
     },
     "execution_count": 9,
     "metadata": {},
     "output_type": "execute_result"
    }
   ],
   "source": [
    "X_train.head()"
   ]
  },
  {
   "cell_type": "code",
   "execution_count": 10,
   "metadata": {},
   "outputs": [
    {
     "data": {
      "text/plain": [
       "710     1\n",
       "3740    0\n",
       "2711    1\n",
       "3155    1\n",
       "3748    0\n",
       "Name: label, dtype: int64"
      ]
     },
     "execution_count": 10,
     "metadata": {},
     "output_type": "execute_result"
    }
   ],
   "source": [
    "y_train.head()"
   ]
  },
  {
   "cell_type": "code",
   "execution_count": 11,
   "metadata": {},
   "outputs": [],
   "source": [
    "from sklearn.feature_extraction.text   import  CountVectorizer\n",
    "vect = CountVectorizer(stop_words='english')"
   ]
  },
  {
   "cell_type": "code",
   "execution_count": 12,
   "metadata": {},
   "outputs": [
    {
     "data": {
      "text/html": [
       "<style>#sk-container-id-1 {color: black;background-color: white;}#sk-container-id-1 pre{padding: 0;}#sk-container-id-1 div.sk-toggleable {background-color: white;}#sk-container-id-1 label.sk-toggleable__label {cursor: pointer;display: block;width: 100%;margin-bottom: 0;padding: 0.3em;box-sizing: border-box;text-align: center;}#sk-container-id-1 label.sk-toggleable__label-arrow:before {content: \"▸\";float: left;margin-right: 0.25em;color: #696969;}#sk-container-id-1 label.sk-toggleable__label-arrow:hover:before {color: black;}#sk-container-id-1 div.sk-estimator:hover label.sk-toggleable__label-arrow:before {color: black;}#sk-container-id-1 div.sk-toggleable__content {max-height: 0;max-width: 0;overflow: hidden;text-align: left;background-color: #f0f8ff;}#sk-container-id-1 div.sk-toggleable__content pre {margin: 0.2em;color: black;border-radius: 0.25em;background-color: #f0f8ff;}#sk-container-id-1 input.sk-toggleable__control:checked~div.sk-toggleable__content {max-height: 200px;max-width: 100%;overflow: auto;}#sk-container-id-1 input.sk-toggleable__control:checked~label.sk-toggleable__label-arrow:before {content: \"▾\";}#sk-container-id-1 div.sk-estimator input.sk-toggleable__control:checked~label.sk-toggleable__label {background-color: #d4ebff;}#sk-container-id-1 div.sk-label input.sk-toggleable__control:checked~label.sk-toggleable__label {background-color: #d4ebff;}#sk-container-id-1 input.sk-hidden--visually {border: 0;clip: rect(1px 1px 1px 1px);clip: rect(1px, 1px, 1px, 1px);height: 1px;margin: -1px;overflow: hidden;padding: 0;position: absolute;width: 1px;}#sk-container-id-1 div.sk-estimator {font-family: monospace;background-color: #f0f8ff;border: 1px dotted black;border-radius: 0.25em;box-sizing: border-box;margin-bottom: 0.5em;}#sk-container-id-1 div.sk-estimator:hover {background-color: #d4ebff;}#sk-container-id-1 div.sk-parallel-item::after {content: \"\";width: 100%;border-bottom: 1px solid gray;flex-grow: 1;}#sk-container-id-1 div.sk-label:hover label.sk-toggleable__label {background-color: #d4ebff;}#sk-container-id-1 div.sk-serial::before {content: \"\";position: absolute;border-left: 1px solid gray;box-sizing: border-box;top: 0;bottom: 0;left: 50%;z-index: 0;}#sk-container-id-1 div.sk-serial {display: flex;flex-direction: column;align-items: center;background-color: white;padding-right: 0.2em;padding-left: 0.2em;position: relative;}#sk-container-id-1 div.sk-item {position: relative;z-index: 1;}#sk-container-id-1 div.sk-parallel {display: flex;align-items: stretch;justify-content: center;background-color: white;position: relative;}#sk-container-id-1 div.sk-item::before, #sk-container-id-1 div.sk-parallel-item::before {content: \"\";position: absolute;border-left: 1px solid gray;box-sizing: border-box;top: 0;bottom: 0;left: 50%;z-index: -1;}#sk-container-id-1 div.sk-parallel-item {display: flex;flex-direction: column;z-index: 1;position: relative;background-color: white;}#sk-container-id-1 div.sk-parallel-item:first-child::after {align-self: flex-end;width: 50%;}#sk-container-id-1 div.sk-parallel-item:last-child::after {align-self: flex-start;width: 50%;}#sk-container-id-1 div.sk-parallel-item:only-child::after {width: 0;}#sk-container-id-1 div.sk-dashed-wrapped {border: 1px dashed gray;margin: 0 0.4em 0.5em 0.4em;box-sizing: border-box;padding-bottom: 0.4em;background-color: white;}#sk-container-id-1 div.sk-label label {font-family: monospace;font-weight: bold;display: inline-block;line-height: 1.2em;}#sk-container-id-1 div.sk-label-container {text-align: center;}#sk-container-id-1 div.sk-container {/* jupyter's `normalize.less` sets `[hidden] { display: none; }` but bootstrap.min.css set `[hidden] { display: none !important; }` so we also need the `!important` here to be able to override the default hidden behavior on the sphinx rendered scikit-learn.org. See: https://github.com/scikit-learn/scikit-learn/issues/21755 */display: inline-block !important;position: relative;}#sk-container-id-1 div.sk-text-repr-fallback {display: none;}</style><div id=\"sk-container-id-1\" class=\"sk-top-container\"><div class=\"sk-text-repr-fallback\"><pre>CountVectorizer(stop_words=&#x27;english&#x27;)</pre><b>In a Jupyter environment, please rerun this cell to show the HTML representation or trust the notebook. <br />On GitHub, the HTML representation is unable to render, please try loading this page with nbviewer.org.</b></div><div class=\"sk-container\" hidden><div class=\"sk-item\"><div class=\"sk-estimator sk-toggleable\"><input class=\"sk-toggleable__control sk-hidden--visually\" id=\"sk-estimator-id-1\" type=\"checkbox\" checked><label for=\"sk-estimator-id-1\" class=\"sk-toggleable__label sk-toggleable__label-arrow\">CountVectorizer</label><div class=\"sk-toggleable__content\"><pre>CountVectorizer(stop_words=&#x27;english&#x27;)</pre></div></div></div></div></div>"
      ],
      "text/plain": [
       "CountVectorizer(stop_words='english')"
      ]
     },
     "execution_count": 12,
     "metadata": {},
     "output_type": "execute_result"
    }
   ],
   "source": [
    "vect.fit(X_train)"
   ]
  },
  {
   "cell_type": "code",
   "execution_count": 13,
   "metadata": {},
   "outputs": [
    {
     "data": {
      "text/plain": [
       "{'4mths': 509,\n",
       " 'half': 3089,\n",
       " 'price': 5027,\n",
       " 'orange': 4626,\n",
       " 'line': 3852,\n",
       " 'rental': 5310,\n",
       " 'latest': 3763,\n",
       " 'camera': 1527,\n",
       " 'phones': 4822,\n",
       " 'free': 2780,\n",
       " 'phone': 4818,\n",
       " '11mths': 264,\n",
       " 'mobilesdirect': 4248,\n",
       " '08000938767': 50,\n",
       " 'update': 6673,\n",
       " 'or2stoptxt': 4624,\n",
       " 'cs': 1971,\n",
       " 'did': 2169,\n",
       " 'stitch': 6028,\n",
       " 'trouser': 6545,\n",
       " 'hope': 3260,\n",
       " 'enjoyed': 2436,\n",
       " 'new': 4442,\n",
       " 'content': 1867,\n",
       " 'text': 6321,\n",
       " 'stop': 6038,\n",
       " '61610': 563,\n",
       " 'unsubscribe': 6665,\n",
       " 'help': 3180,\n",
       " '08712400602450p': 98,\n",
       " 'provided': 5089,\n",
       " 'tones2you': 6473,\n",
       " 'uk': 6614,\n",
       " 'heard': 3159,\n",
       " 'u4': 6608,\n",
       " 'rude': 5443,\n",
       " 'chat': 1643,\n",
       " 'private': 5040,\n",
       " '01223585334': 5,\n",
       " 'cum': 1989,\n",
       " 'wan': 6852,\n",
       " '2c': 374,\n",
       " 'pics': 4837,\n",
       " 'gettin': 2913,\n",
       " 'shagged': 5628,\n",
       " 'pix': 4858,\n",
       " '8552': 660,\n",
       " '2end': 378,\n",
       " 'send': 5590,\n",
       " 'sam': 5487,\n",
       " 'xxx': 7127,\n",
       " 'neva': 4438,\n",
       " 'tell': 6289,\n",
       " 'noe': 4477,\n",
       " 'home': 3244,\n",
       " 'da': 2015,\n",
       " 'aft': 826,\n",
       " 'wat': 6876,\n",
       " 'wiskey': 7012,\n",
       " 'brandy': 1389,\n",
       " 'rum': 5450,\n",
       " 'gin': 2927,\n",
       " 'beer': 1209,\n",
       " 'vodka': 6798,\n",
       " 'scotch': 5535,\n",
       " 'shampain': 5637,\n",
       " 'wine': 6993,\n",
       " 'kudi': 3715,\n",
       " 'yarasu': 7142,\n",
       " 'dhina': 2156,\n",
       " 'vaazhthukkal': 6720,\n",
       " 'seeking': 5573,\n",
       " 'lady': 3732,\n",
       " 'street': 6056,\n",
       " 'freak': 2776,\n",
       " 'sheets': 5649,\n",
       " 'lol': 3910,\n",
       " 'drunkard': 2327,\n",
       " 'just': 3623,\n",
       " 'doing': 2259,\n",
       " 'hair': 3085,\n",
       " 'moment': 4265,\n",
       " 'yeah': 7149,\n",
       " 'tonight': 6475,\n",
       " 'wats': 6887,\n",
       " 'plan': 4867,\n",
       " 'turning': 6579,\n",
       " 'moms': 4267,\n",
       " 'telling': 6290,\n",
       " 'cancer': 1535,\n",
       " 'sister': 5745,\n",
       " 'won': 7041,\n",
       " 'calling': 1519,\n",
       " 'hurts': 3323,\n",
       " 'talk': 6234,\n",
       " 'love': 3953,\n",
       " 'coming': 1800,\n",
       " 'dinner': 2193,\n",
       " 'rite': 5396,\n",
       " 'dad': 2018,\n",
       " 'ask': 1032,\n",
       " 'confirm': 1843,\n",
       " 'wif': 6977,\n",
       " 'ah': 842,\n",
       " 'poor': 4931,\n",
       " 'baby': 1121,\n",
       " 'urfeeling': 6687,\n",
       " 'bettersn': 1243,\n",
       " 'luv': 3988,\n",
       " 'probthat': 5052,\n",
       " 'overdose': 4667,\n",
       " 'work': 7058,\n",
       " 'hey': 3198,\n",
       " 'careful': 1556,\n",
       " 'spk': 5938,\n",
       " 'sn': 5822,\n",
       " 'lots': 3942,\n",
       " 'lovejen': 3955,\n",
       " 'gam': 2856,\n",
       " 'gone': 2968,\n",
       " 'outstanding': 4664,\n",
       " 'innings': 3438,\n",
       " 'nice': 4453,\n",
       " 'working': 7062,\n",
       " 'haha': 3081,\n",
       " 'kidding': 3672,\n",
       " 'papa': 4705,\n",
       " 'needs': 4417,\n",
       " 'drugs': 2325,\n",
       " 'chief': 1677,\n",
       " 'bell': 1223,\n",
       " 'need': 4412,\n",
       " 'royal': 5432,\n",
       " 'visit': 6789,\n",
       " '1st': 324,\n",
       " 'june': 3618,\n",
       " 'ugh': 6610,\n",
       " 'long': 3917,\n",
       " 'day': 2054,\n",
       " 'exhausted': 2523,\n",
       " 'want': 6857,\n",
       " 'cuddle': 1984,\n",
       " 'nap': 4381,\n",
       " 'awesome': 1103,\n",
       " 'time': 6418,\n",
       " 'like': 3840,\n",
       " 'lt': 3974,\n",
       " 'gt': 3044,\n",
       " 'll': 3887,\n",
       " 'details': 2143,\n",
       " 'wee': 6916,\n",
       " 'bit': 1277,\n",
       " 'ok': 4578,\n",
       " 'lor': 3932,\n",
       " 'thk': 6376,\n",
       " 'tickets': 6407,\n",
       " 'cos': 1901,\n",
       " 'quite': 5149,\n",
       " 'late': 3760,\n",
       " 'look': 3921,\n",
       " 'ur': 6684,\n",
       " 'frens': 2791,\n",
       " 'darren': 2041,\n",
       " 'dont': 2269,\n",
       " 'know': 3700,\n",
       " 'bring': 1414,\n",
       " 'food': 2730,\n",
       " 'reason': 5224,\n",
       " 've': 6744,\n",
       " 'spoken': 5948,\n",
       " 'year': 7150,\n",
       " 'anyways': 947,\n",
       " 'great': 3020,\n",
       " 'week': 6918,\n",
       " 'best': 1237,\n",
       " 'exam': 2511,\n",
       " 'make': 4042,\n",
       " 'fucks': 2825,\n",
       " 'sake': 5476,\n",
       " 'yes': 7160,\n",
       " 'place': 4862,\n",
       " 'town': 6504,\n",
       " 'meet': 4130,\n",
       " 'exciting': 2515,\n",
       " 'adult': 806,\n",
       " 'singles': 5739,\n",
       " 'txt': 6590,\n",
       " '86688': 664,\n",
       " '150p': 293,\n",
       " 'msg': 4315,\n",
       " 'man': 4052,\n",
       " 'print': 5035,\n",
       " 'outs': 4660,\n",
       " 'room': 5418,\n",
       " 'think': 6368,\n",
       " 'saying': 5517,\n",
       " 'clearly': 1734,\n",
       " 'leave': 3793,\n",
       " 'come': 1794,\n",
       " 'st': 5972,\n",
       " 'andre': 912,\n",
       " 'virgil': 6783,\n",
       " 'cream': 1947,\n",
       " 'yoyyooo': 7179,\n",
       " 'change': 1623,\n",
       " 'permissions': 4789,\n",
       " 'drive': 2313,\n",
       " 'mac': 4013,\n",
       " 'usb': 6699,\n",
       " 'flash': 2692,\n",
       " 'sunshine': 6148,\n",
       " 'quiz': 5151,\n",
       " 'wkly': 7024,\n",
       " 'win': 6987,\n",
       " 'sony': 5865,\n",
       " 'dvd': 2350,\n",
       " 'player': 4875,\n",
       " 'country': 1914,\n",
       " 'algarve': 875,\n",
       " 'ansr': 927,\n",
       " '82277': 637,\n",
       " '50': 520,\n",
       " 'sp': 5898,\n",
       " 'tyrone': 6606,\n",
       " 'dear': 2066,\n",
       " 'th': 6333,\n",
       " 'birthday': 1275,\n",
       " 'loving': 3963,\n",
       " 'gopalettan': 2984,\n",
       " 'planning': 4871,\n",
       " 'small': 5796,\n",
       " 'gift': 2921,\n",
       " 'participate': 4724,\n",
       " 'welcome': 6933,\n",
       " 'contact': 1863,\n",
       " 'admin': 793,\n",
       " 'team': 6274,\n",
       " 'class': 1724,\n",
       " 'hours': 3282,\n",
       " 'sorry': 5877,\n",
       " 'okay': 4579,\n",
       " 'wait': 6834,\n",
       " 'rushing': 5458,\n",
       " 'school': 5527,\n",
       " 'rush': 5457,\n",
       " 'hungry': 3314,\n",
       " 'usually': 6712,\n",
       " 'stops': 6044,\n",
       " 'hella': 3177,\n",
       " 'weed': 6917,\n",
       " 'smoke': 5811,\n",
       " 'awarded': 1101,\n",
       " 'city': 1715,\n",
       " 'break': 1396,\n",
       " '200': 335,\n",
       " 'summer': 6139,\n",
       " 'shopping': 5681,\n",
       " 'spree': 5961,\n",
       " 'wk': 7020,\n",
       " 'store': 6046,\n",
       " '88039': 675,\n",
       " 'skilgme': 5759,\n",
       " 'tscs087147403231winawk': 6562,\n",
       " 'age16': 832,\n",
       " '50perwksub': 528,\n",
       " 'shall': 5635,\n",
       " 'pickle': 4836,\n",
       " 'isn': 3506,\n",
       " 'frnd': 2809,\n",
       " 'necesity': 4407,\n",
       " 'life': 3830,\n",
       " 'imagine': 3376,\n",
       " 'urself': 6697,\n",
       " 'witout': 7017,\n",
       " 'hw': 3328,\n",
       " 'feel': 2620,\n",
       " 'colleg': 1786,\n",
       " 'wth': 7102,\n",
       " 'cell': 1605,\n",
       " 'abt': 742,\n",
       " 'functions': 2833,\n",
       " 'thnk': 6378,\n",
       " 'events': 2491,\n",
       " 'espe': 2474,\n",
       " 'cared': 1553,\n",
       " 'missed': 4215,\n",
       " 'amp': 903,\n",
       " 'irritated': 3496,\n",
       " '4wrd': 517,\n",
       " 'frnds': 2810,\n",
       " 'wthout': 7103,\n",
       " 'live': 3880,\n",
       " 'jst': 3605,\n",
       " 'takecare': 6228,\n",
       " 'goodmorning': 2977,\n",
       " 'brum': 1437,\n",
       " 'thanks': 6337,\n",
       " 'putting': 5126,\n",
       " 'keeping': 3651,\n",
       " 'happy': 3120,\n",
       " 'soon': 5868,\n",
       " 'im': 3373,\n",
       " 'tellmiss': 6291,\n",
       " 'way': 6891,\n",
       " 'bloomberg': 1310,\n",
       " 'message': 4163,\n",
       " 'center': 1607,\n",
       " '447797706009': 482,\n",
       " 'apply': 969,\n",
       " 'future': 2842,\n",
       " 'http': 3298,\n",
       " 'careers': 1555,\n",
       " 'com': 1791,\n",
       " 'enjoy': 2435,\n",
       " 'plural': 4892,\n",
       " 'noun': 4515,\n",
       " 'research': 5331,\n",
       " 'sure': 6165,\n",
       " 'checking': 1656,\n",
       " 'happening': 3114,\n",
       " 'area': 991,\n",
       " 'aight': 850,\n",
       " 'sleeping': 5774,\n",
       " 'surfing': 6168,\n",
       " 'cool': 1888,\n",
       " 'breeze': 1406,\n",
       " 'bright': 1410,\n",
       " 'sun': 6142,\n",
       " 'fresh': 2793,\n",
       " 'flower': 2711,\n",
       " 'twittering': 6588,\n",
       " 'birds': 1270,\n",
       " 'waiting': 6837,\n",
       " 'wish': 7006,\n",
       " 'ringtone': 5389,\n",
       " 'order': 4630,\n",
       " 'reference': 5261,\n",
       " 'number': 4526,\n",
       " 'x49': 7114,\n",
       " 'mobile': 4246,\n",
       " 'charged': 1633,\n",
       " 'tone': 6470,\n",
       " 'arrive': 1016,\n",
       " 'customer': 2002,\n",
       " 'services': 5609,\n",
       " '09065989182': 214,\n",
       " 'colour': 1789,\n",
       " 'red': 5257,\n",
       " 'txtstar': 6598,\n",
       " 'does': 2245,\n",
       " 'uncle': 6626,\n",
       " 'timi': 6420,\n",
       " 'clearing': 1733,\n",
       " 'cars': 1569,\n",
       " 'getting': 2914,\n",
       " 'really': 5219,\n",
       " 'bad': 1128,\n",
       " 'totally': 6498,\n",
       " 'rejected': 5281,\n",
       " 'kinda': 3682,\n",
       " 'thing': 6366,\n",
       " 'sent': 5598,\n",
       " 'prices': 5028,\n",
       " 'mean': 4116,\n",
       " 'hi': 3202,\n",
       " 'darlin': 2038,\n",
       " 'london': 3914,\n",
       " 'smashed': 5801,\n",
       " 'driver': 2314,\n",
       " 'big': 1257,\n",
       " 'dent': 2118,\n",
       " 'missing': 4217,\n",
       " 'took': 6479,\n",
       " 'tablets': 6217,\n",
       " 'reaction': 5205,\n",
       " 'morning': 4289,\n",
       " 'going': 2959,\n",
       " 'intention': 3459,\n",
       " 'run': 5453,\n",
       " 'choose': 1700,\n",
       " 'clean': 1728,\n",
       " 'don': 2266,\n",
       " 'say': 5516,\n",
       " 'visitors': 6791,\n",
       " 'maybe': 4111,\n",
       " 'choice': 1698,\n",
       " 'wanted': 6859,\n",
       " 'embarassed': 2413,\n",
       " 'friend': 2800,\n",
       " 'wants': 6861,\n",
       " 'drop': 2319,\n",
       " 'buy': 1483,\n",
       " 'happened': 3113,\n",
       " 'tried': 6537,\n",
       " 'picking': 4835,\n",
       " 'various': 6735,\n",
       " 'points': 4914,\n",
       " 'yeovil': 7157,\n",
       " 'motor': 4298,\n",
       " 'project': 5064,\n",
       " '12': 266,\n",
       " '30': 412,\n",
       " 'max': 4106,\n",
       " 'easy': 2368,\n",
       " 'test': 6316,\n",
       " 'rd': 5199,\n",
       " 'fret': 2794,\n",
       " 'ovulation': 4673,\n",
       " 'strips': 6066,\n",
       " 'wont': 7048,\n",
       " 'til': 6416,\n",
       " 'march': 4072,\n",
       " 'postal': 4953,\n",
       " 'address': 790,\n",
       " 'alright': 887,\n",
       " 'loyalty': 3970,\n",
       " 'offer': 4560,\n",
       " 'nokia6650': 4485,\n",
       " '10': 244,\n",
       " 'txtauction': 6593,\n",
       " 'word': 7056,\n",
       " 'start': 5993,\n",
       " '81151': 632,\n",
       " '4t': 511,\n",
       " 'ctxt': 1982,\n",
       " 'tc': 6266,\n",
       " 'mtmsg': 4325,\n",
       " 'remember': 5295,\n",
       " 'alex': 873,\n",
       " 'pizza': 4860,\n",
       " 'av': 1084,\n",
       " 'wil': 6982,\n",
       " 'use': 6701,\n",
       " 'ta': 6214,\n",
       " 'urgent': 6688,\n",
       " 'trying': 6558,\n",
       " 'todays': 6454,\n",
       " 'draw': 2301,\n",
       " 'shows': 5701,\n",
       " '800': 617,\n",
       " 'prize': 5043,\n",
       " 'guaranteed': 3048,\n",
       " '09050001808': 158,\n",
       " 'land': 3740,\n",
       " 'claim': 1718,\n",
       " 'm95': 4008,\n",
       " 'valid12hrs': 6727,\n",
       " 'babe': 1119,\n",
       " 'lost': 3939,\n",
       " 'painful': 4690,\n",
       " 'personal': 4795,\n",
       " 'thought': 6384,\n",
       " 'try': 6556,\n",
       " 'everybody': 2492,\n",
       " 'recognises': 5250,\n",
       " 'subscribed': 6105,\n",
       " 'service': 5608,\n",
       " 'days': 2055,\n",
       " '82324': 638,\n",
       " 'helpline': 3185,\n",
       " '08706091795': 83,\n",
       " 'basket': 1164,\n",
       " 'mum': 4336,\n",
       " 'messages': 4165,\n",
       " 'got': 2988,\n",
       " 'actually': 781,\n",
       " 'rest': 5351,\n",
       " 'january': 3541,\n",
       " 'male': 4049,\n",
       " 'sale': 5480,\n",
       " 'hot': 3276,\n",
       " 'gay': 2877,\n",
       " 'cheaper': 1649,\n",
       " '08709222922': 88,\n",
       " 'national': 4391,\n",
       " 'rate': 5187,\n",
       " '5p': 548,\n",
       " 'min': 4187,\n",
       " 'cheap': 1648,\n",
       " '8p': 695,\n",
       " 'peak': 4765,\n",
       " 'texts': 6331,\n",
       " '08712460324': 108,\n",
       " '10p': 254,\n",
       " 'honesty': 3249,\n",
       " 'road': 5399,\n",
       " 'bank': 1146,\n",
       " 'tomorrow': 6469,\n",
       " 'tough': 6502,\n",
       " 'decisions': 2080,\n",
       " 'people': 4776,\n",
       " 'womdarfull': 7039,\n",
       " 'actor': 779,\n",
       " 'congrats': 1847,\n",
       " 'special': 5910,\n",
       " 'cinema': 1713,\n",
       " 'pass': 4731,\n",
       " '09061209465': 180,\n",
       " 'suprman': 6163,\n",
       " 'matrix3': 4101,\n",
       " 'starwars3': 5997,\n",
       " 'bx420': 1493,\n",
       " 'ip4': 3484,\n",
       " '5we': 552,\n",
       " '150pm': 295,\n",
       " 'miss': 4213,\n",
       " 'movie': 4304,\n",
       " 'juz': 3626,\n",
       " 'minute': 4202,\n",
       " 'decision': 2079,\n",
       " 'mah': 4031,\n",
       " 'watch': 6877,\n",
       " 'lar': 3751,\n",
       " 'tot': 6496,\n",
       " 'interested': 3460,\n",
       " 'care': 1551,\n",
       " 'sweet': 6191,\n",
       " 'dreams': 2305,\n",
       " 'ummifying': 6620,\n",
       " 'bye': 1495,\n",
       " 'gud': 3050,\n",
       " 'ni8': 4451,\n",
       " 'slp': 5794,\n",
       " 'swt': 6203,\n",
       " 'muah': 4330,\n",
       " 'youdoing': 7172,\n",
       " 'later': 3762,\n",
       " 'sar': 5495,\n",
       " 'money': 4270,\n",
       " '09050000460': 153,\n",
       " 'j89': 3526,\n",
       " 'po': 4897,\n",
       " 'box245c2150pm': 1364,\n",
       " 'issue': 3508,\n",
       " 'weigh': 6924,\n",
       " 'breathe': 1403,\n",
       " 'easier': 2363,\n",
       " 'regret': 5278,\n",
       " 'gr8': 3000,\n",
       " 'leaving': 3795,\n",
       " 'plans': 4872,\n",
       " 'havent': 3142,\n",
       " 'sir': 5742,\n",
       " 'group': 3034,\n",
       " 'mail': 4034,\n",
       " 'check': 1653,\n",
       " 'hit': 3216,\n",
       " 'cash': 1573,\n",
       " 'girl': 2928,\n",
       " '2004': 338,\n",
       " 'account': 760,\n",
       " 'statement': 5998,\n",
       " '07742676969': 27,\n",
       " '786': 608,\n",
       " 'unredeemed': 6661,\n",
       " 'bonus': 1332,\n",
       " '08719180248': 144,\n",
       " 'identifier': 3355,\n",
       " 'code': 1770,\n",
       " '45239': 489,\n",
       " 'expires': 2538,\n",
       " 'mins': 4200,\n",
       " 'busy': 1479,\n",
       " 'finish': 2670,\n",
       " 'looking': 3924,\n",
       " 'forward': 2761,\n",
       " 'finally': 2663,\n",
       " 'meeting': 4132,\n",
       " 'hmv': 3230,\n",
       " '500': 521,\n",
       " 'pounds': 4965,\n",
       " 'genuine': 2901,\n",
       " 'vouchers': 6808,\n",
       " 'answer': 928,\n",
       " 'questions': 5144,\n",
       " 'play': 4873,\n",
       " 'info': 3425,\n",
       " 'www': 7110,\n",
       " '100percent': 249,\n",
       " 'real': 5210,\n",
       " 'accidentally': 754,\n",
       " 'left': 3798,\n",
       " 'silent': 5726,\n",
       " 'night': 4460,\n",
       " 'didn': 2170,\n",
       " 'ya': 7134,\n",
       " 'tht': 6398,\n",
       " 'incident': 3399,\n",
       " 'good': 2972,\n",
       " 'problem': 5047,\n",
       " 'little': 3879,\n",
       " 'experience': 2534,\n",
       " 'understand': 6633,\n",
       " 'american': 895,\n",
       " 'voice': 6799,\n",
       " 'used': 6702,\n",
       " 'agents': 836,\n",
       " 'booked': 1336,\n",
       " 'things': 6367,\n",
       " 'boston': 1350,\n",
       " 'nyc': 4539,\n",
       " 'experiment': 2535,\n",
       " 'online': 4599,\n",
       " 'transaction': 6515,\n",
       " 'came': 1526,\n",
       " 'hostel': 3274,\n",
       " 'sleep': 5772,\n",
       " 'plz': 4895,\n",
       " 'hrishi': 3295,\n",
       " 'fuuuuck': 2843,\n",
       " 'sleepin': 5773,\n",
       " 'sup': 6150,\n",
       " 'dude': 2337,\n",
       " 'makin': 4045,\n",
       " 'weirdy': 6931,\n",
       " 'brownies': 1433,\n",
       " 'cookies': 1886,\n",
       " 'secret': 5560,\n",
       " 'admirer': 795,\n",
       " 'reveal': 5368,\n",
       " 'thinks': 6372,\n",
       " '09058094599': 175,\n",
       " 'oh': 4573,\n",
       " 'training': 6512,\n",
       " 'manual': 4066,\n",
       " 'tech': 6279,\n",
       " 'process': 5053,\n",
       " 'password': 4737,\n",
       " 'reset': 5337,\n",
       " 'troubleshooting': 6544,\n",
       " 'computerless': 1831,\n",
       " 'oreo': 4633,\n",
       " 'truffles': 6550,\n",
       " 'watching': 6880,\n",
       " 'tv': 6582,\n",
       " 'job': 3580,\n",
       " 'hoping': 3264,\n",
       " 'game': 2858,\n",
       " 'yesterday': 7162,\n",
       " 'touch': 6500,\n",
       " 'pls': 4888,\n",
       " 'fondly': 2725,\n",
       " 'bein': 1220,\n",
       " 'thot': 6382,\n",
       " 'abiola': 732,\n",
       " 'nite': 4470,\n",
       " 'pocay': 4907,\n",
       " 'wocay': 7035,\n",
       " '4eva': 502,\n",
       " 'promise': 5068,\n",
       " 'ring': 5387,\n",
       " '2morrowxxxx': 393,\n",
       " 'yup': 7189,\n",
       " 'thanx': 6342,\n",
       " 'reply': 5321,\n",
       " 'pick': 4833,\n",
       " 'heart': 3162,\n",
       " 'mind': 4190,\n",
       " 'wisdom': 7004,\n",
       " 'eyes': 2555,\n",
       " 'alwys': 891,\n",
       " 'panren': 4700,\n",
       " 'paru': 4729,\n",
       " 'wife': 6978,\n",
       " 'relax': 5286,\n",
       " 'wkend': 7021,\n",
       " 'fun': 2831,\n",
       " 'truly': 6551,\n",
       " 'forget': 2746,\n",
       " 'gbp': 2881,\n",
       " 'sms': 5817,\n",
       " 'approve': 975,\n",
       " 'panalam': 4695,\n",
       " 'posts': 4959,\n",
       " 'paid': 4688,\n",
       " 'commercial': 1804,\n",
       " 'hasbro': 3129,\n",
       " 'august': 1075,\n",
       " 'jump': 3616,\n",
       " 'hoops': 3258,\n",
       " 'shut': 5711,\n",
       " 'omg': 4592,\n",
       " 'dream': 2304,\n",
       " 'kids': 3673,\n",
       " 'boys': 1381,\n",
       " 'pissed': 4855,\n",
       " 'told': 6460,\n",
       " 'mark': 4076,\n",
       " 'changing': 1626,\n",
       " 'diapers': 2164,\n",
       " 'cause': 1588,\n",
       " 'owed': 4676,\n",
       " 'face': 2559,\n",
       " 'ey': 2553,\n",
       " 'calm': 1523,\n",
       " 'downon': 2292,\n",
       " 'theacusations': 6347,\n",
       " 'itxt': 3517,\n",
       " 'iwana': 3520,\n",
       " 'wotu': 7077,\n",
       " 'doin': 2257,\n",
       " 'thew': 6362,\n",
       " 'end': 2422,\n",
       " 'haventcn': 3143,\n",
       " 'ages': 837,\n",
       " 'up4': 6669,\n",
       " 'nething': 4432,\n",
       " 'sat': 5502,\n",
       " 'dramatic': 2299,\n",
       " 'schools': 5528,\n",
       " 'closed': 1742,\n",
       " 'apparently': 961,\n",
       " 'inch': 3397,\n",
       " 'snow': 5832,\n",
       " 'supposed': 6161,\n",
       " 'woke': 7036,\n",
       " 'blur': 1319,\n",
       " 'went': 6940,\n",
       " 'liao': 3821,\n",
       " 'oso': 4645,\n",
       " 'helloooo': 3179,\n",
       " 'wake': 6838,\n",
       " 'welcomes': 6934,\n",
       " 'joy': 3600,\n",
       " 'mrng': 4312,\n",
       " 'jason': 3546,\n",
       " 'says': 5518,\n",
       " 'gonna': 2970,\n",
       " 'mallika': 4051,\n",
       " 'sherawat': 5652,\n",
       " 'url': 6694,\n",
       " 'wa': 6823,\n",
       " 'openin': 4608,\n",
       " 'sentence': 5599,\n",
       " 'formal': 2753,\n",
       " 'fine': 2667,\n",
       " 'tt': 6565,\n",
       " 'eatin': 2371,\n",
       " 'puttin': 5125,\n",
       " 'weight': 6926,\n",
       " 'anythin': 944,\n",
       " 'tyler': 6602,\n",
       " 'minor': 4199,\n",
       " 'crisis': 1960,\n",
       " 'sooner': 5869,\n",
       " 'asap': 1024,\n",
       " 'erm': 2460,\n",
       " 'ill': 3369,\n",
       " '45pm': 490,\n",
       " 'park': 4720,\n",
       " 'treat': 6529,\n",
       " 'pending': 4773,\n",
       " 'respect': 5343,\n",
       " 'mother': 4293,\n",
       " 'mails': 4037,\n",
       " 'alrite': 888,\n",
       " 'hunny': 3316,\n",
       " 'wot': 7076,\n",
       " '2nite': 398,\n",
       " 'didnt': 2171,\n",
       " 'goin': 2958,\n",
       " 'jus': 3622,\n",
       " 'pub': 5101,\n",
       " 'instead': 3453,\n",
       " 'chillin': 1686,\n",
       " 'mo': 4242,\n",
       " 'bedroom': 1206,\n",
       " 'jen': 3559,\n",
       " 'aiyo': 860,\n",
       " 'meh': 4137,\n",
       " 'princess': 5034,\n",
       " 'times': 6419,\n",
       " 'thats': 6346,\n",
       " 'ew': 2507,\n",
       " 'friendship': 2803,\n",
       " 'poem': 4911,\n",
       " 'near': 4405,\n",
       " 'hear': 3158,\n",
       " 'fear': 2613,\n",
       " 'cheer': 1660,\n",
       " 'tear': 6275,\n",
       " 'added': 786,\n",
       " 'list': 3868,\n",
       " 'fullonsms': 2829,\n",
       " 'ignoring': 3363,\n",
       " 'dating': 2049,\n",
       " 'started': 5994,\n",
       " 'sport': 5954,\n",
       " 'radio': 5160,\n",
       " 'connection': 1851,\n",
       " 'coincidence': 1774,\n",
       " 'hook': 3257,\n",
       " 'means': 4120,\n",
       " 'right': 5383,\n",
       " 'valuable': 6728,\n",
       " 'situations': 5752,\n",
       " 'second': 5557,\n",
       " 'loosing': 3930,\n",
       " 'si': 5713,\n",
       " 'como': 1808,\n",
       " 'listened2the': 3871,\n",
       " 'plaid': 4866,\n",
       " 'album': 867,\n",
       " 'gd': 2884,\n",
       " 'air1': 854,\n",
       " 'hilarious': 3207,\n",
       " 'bought': 1354,\n",
       " 'braindance': 1386,\n",
       " 'comp': 1809,\n",
       " 'ofstuff': 4570,\n",
       " 'aphex': 953,\n",
       " 'abel': 728,\n",
       " 'hav2hear': 3139,\n",
       " 'xxxx': 7129,\n",
       " 'wana': 6854,\n",
       " 'praps': 4988,\n",
       " 'meant': 4121,\n",
       " 'goodo': 2981,\n",
       " 'stay': 6001,\n",
       " 'england': 2433,\n",
       " 'official': 4566,\n",
       " 'poly': 4918,\n",
       " 'flag': 2688,\n",
       " 'yer': 7159,\n",
       " '84199': 653,\n",
       " 'opt': 4618,\n",
       " 'eng': 2430,\n",
       " 'box39822': 1369,\n",
       " 'w111wx': 6814,\n",
       " 'honeybee': 3251,\n",
       " 'said': 5475,\n",
       " 'sweetest': 6192,\n",
       " 'world': 7065,\n",
       " 'god': 2954,\n",
       " 'laughed': 3767,\n",
       " 'havnt': 3147,\n",
       " 'met': 4170,\n",
       " 'person': 4794,\n",
       " 'reading': 5208,\n",
       " 'moral': 4285,\n",
       " 'crack': 1934,\n",
       " 'jokes': 3590,\n",
       " 'gm': 2943,\n",
       " 'gn': 2945,\n",
       " 'ge': 2886,\n",
       " 'study': 6082,\n",
       " 'tap': 6247,\n",
       " 'spile': 5931,\n",
       " 'seven': 5616,\n",
       " 'gas': 2870,\n",
       " 'broad': 1422,\n",
       " 'canal': 1530,\n",
       " 'wan2': 6853,\n",
       " 'greet': 3023,\n",
       " 'westlife': 6950,\n",
       " 'm8': 4006,\n",
       " 'currently': 1997,\n",
       " 'tour': 6503,\n",
       " 'unbreakable': 6625,\n",
       " 'untamed': 6667,\n",
       " 'unkempt': 6652,\n",
       " '83049': 640,\n",
       " 'cost': 1903,\n",
       " '50p': 526,\n",
       " 'std': 6006,\n",
       " 'drunk': 2326,\n",
       " 'motherfucker': 4294,\n",
       " 'textbuddy': 6324,\n",
       " 'horny': 3266,\n",
       " 'guys': 3068,\n",
       " '25p': 362,\n",
       " 'receive': 5237,\n",
       " 'search': 5552,\n",
       " 'postcode': 4955,\n",
       " 'gaytextbuddy': 2880,\n",
       " '89693': 690,\n",
       " '08715500022': 122,\n",
       " 'rpl': 5434,\n",
       " 'cnl': 1759,\n",
       " 'hiya': 3220,\n",
       " 'weekend': 6920,\n",
       " 'usual': 6711,\n",
       " 'ard': 990,\n",
       " 'smth': 5821,\n",
       " 'doc': 2239,\n",
       " 'gave': 2876,\n",
       " 'pain': 4689,\n",
       " 'meds': 4128,\n",
       " 'mahal': 4032,\n",
       " 'bus': 1473,\n",
       " 'decimal': 2078,\n",
       " 'cooking': 1887,\n",
       " 'oops': 4604,\n",
       " 'tomo': 6467,\n",
       " 'station': 5999,\n",
       " 'dhoni': 2157,\n",
       " 'luck': 3978,\n",
       " 'title': 6433,\n",
       " 'waking': 6839,\n",
       " 'afternoon': 828,\n",
       " 'church': 1710,\n",
       " 'holla': 3240,\n",
       " 'let': 3815,\n",
       " 'salad': 5477,\n",
       " 'desert': 2132,\n",
       " 'beers': 1210,\n",
       " 'news': 4447,\n",
       " 'freefone': 2784,\n",
       " '08006344447': 56,\n",
       " '1000': 246,\n",
       " '2000': 336,\n",
       " 'speak': 5908,\n",
       " 'operator': 4612,\n",
       " 'hr': 3294,\n",
       " 'trip': 6538,\n",
       " 'audition': 1072,\n",
       " 'wednesday': 6914,\n",
       " 'whats': 6955,\n",
       " 'printed': 5036,\n",
       " 'upstairs': 6682,\n",
       " 'wasnt': 6872,\n",
       " 'phoned': 4821,\n",
       " 'voda': 6796,\n",
       " 'numbers': 4527,\n",
       " 'ending': 2424,\n",
       " '1225': 270,\n",
       " 'selected': 5579,\n",
       " '50award': 523,\n",
       " 'match': 4094,\n",
       " '08712300220': 95,\n",
       " 'quoting': 5155,\n",
       " '3100': 424,\n",
       " 'standard': 5984,\n",
       " 'rates': 5188,\n",
       " 'app': 960,\n",
       " 'today': 6453,\n",
       " 'accept': 749,\n",
       " 'brother': 1429,\n",
       " 'lover': 3958,\n",
       " 'dear1': 2067,\n",
       " 'best1': 1238,\n",
       " 'clos1': 1740,\n",
       " 'lvblefrnd': 3993,\n",
       " 'jstfrnd': 3606,\n",
       " 'cutefrnd': 2007,\n",
       " 'lifpartnr': 3833,\n",
       " 'belovd': 1228,\n",
       " 'swtheart': 6204,\n",
       " 'bstfrnd': 1442,\n",
       " 'rply': 5435,\n",
       " 'enemy': 2428,\n",
       " 'bloo': 1307,\n",
       " 'bowl': 1358,\n",
       " 'urgnt': 6691,\n",
       " 'wating': 6885,\n",
       " 'difficult': 2181,\n",
       " 'girls': 2931,\n",
       " 'companion': 1811,\n",
       " 'chef': 1666,\n",
       " 'listener': 3872,\n",
       " 'organizer': 4636,\n",
       " 'boyfriend': 1380,\n",
       " 'sympathetic': 6207,\n",
       " 'athletic': 1054,\n",
       " 'warm': 6864,\n",
       " 'courageous': 1919,\n",
       " 'determined': 2145,\n",
       " 'true': 6548,\n",
       " 'dependable': 2125,\n",
       " 'intelligent': 3457,\n",
       " 'psychologist': 5098,\n",
       " 'pest': 4802,\n",
       " 'exterminator': 2550,\n",
       " 'psychiatrist': 5096,\n",
       " 'healer': 3156,\n",
       " 'stylist': 6094,\n",
       " 'aaniye': 722,\n",
       " 'pudunga': 5105,\n",
       " 'venaam': 6749,\n",
       " 'request': 5326,\n",
       " 'maangalyam': 4011,\n",
       " 'alaipayuthe': 866,\n",
       " 'set': 5611,\n",
       " 'callertune': 1516,\n",
       " 'callers': 1515,\n",
       " 'press': 5017,\n",
       " 'copy': 1893,\n",
       " 'friends': 2801,\n",
       " 'tirunelvai': 6428,\n",
       " 'lick': 3825,\n",
       " 'pussy': 5123,\n",
       " 'inside': 3447,\n",
       " 'office': 4564,\n",
       " 'filling': 2654,\n",
       " 'forms': 2757,\n",
       " 'textin': 6327,\n",
       " 'bout': 1356,\n",
       " 'worries': 7069,\n",
       " 'photo': 4824,\n",
       " 'shoot': 5678,\n",
       " ...}"
      ]
     },
     "execution_count": 13,
     "metadata": {},
     "output_type": "execute_result"
    }
   ],
   "source": [
    "vect.vocabulary_"
   ]
  },
  {
   "cell_type": "code",
   "execution_count": 14,
   "metadata": {},
   "outputs": [
    {
     "data": {
      "text/plain": [
       "7204"
      ]
     },
     "execution_count": 14,
     "metadata": {},
     "output_type": "execute_result"
    }
   ],
   "source": [
    "len(\n",
    "vect.vocabulary_\n",
    ")"
   ]
  },
  {
   "cell_type": "code",
   "execution_count": 15,
   "metadata": {},
   "outputs": [],
   "source": [
    "X_train_transformed = vect.transform(X_train)\n",
    "X_test_transformed = vect.transform(X_test)"
   ]
  },
  {
   "cell_type": "code",
   "execution_count": 16,
   "metadata": {},
   "outputs": [
    {
     "name": "stdout",
     "output_type": "stream",
     "text": [
      "<class 'scipy.sparse._csr.csr_matrix'>\n"
     ]
    }
   ],
   "source": [
    "print(type(X_train_transformed))"
   ]
  },
  {
   "cell_type": "code",
   "execution_count": 17,
   "metadata": {},
   "outputs": [
    {
     "name": "stdout",
     "output_type": "stream",
     "text": [
      "  (0, 50)\t1\n",
      "  (0, 264)\t1\n",
      "  (0, 509)\t1\n",
      "  (0, 1527)\t1\n",
      "  (0, 1971)\t1\n",
      "  (0, 2780)\t2\n",
      "  (0, 3089)\t1\n",
      "  (0, 3763)\t1\n",
      "  (0, 3852)\t1\n",
      "  (0, 4248)\t1\n",
      "  (0, 4624)\t1\n",
      "  (0, 4626)\t1\n",
      "  (0, 4818)\t1\n",
      "  (0, 4822)\t1\n",
      "  (0, 5027)\t1\n",
      "  (0, 5310)\t1\n",
      "  (0, 6673)\t1\n",
      "  (1, 2169)\t1\n",
      "  (1, 6028)\t1\n",
      "  (1, 6545)\t1\n",
      "  (2, 98)\t1\n",
      "  (2, 563)\t1\n",
      "  (2, 1867)\t1\n",
      "  (2, 2436)\t1\n",
      "  (2, 3180)\t1\n",
      "  :\t:\n",
      "  (4176, 3879)\t1\n",
      "  (4176, 4417)\t1\n",
      "  (4176, 5229)\t1\n",
      "  (4176, 6191)\t1\n",
      "  (4176, 7134)\t1\n",
      "  (4177, 254)\t1\n",
      "  (4177, 307)\t1\n",
      "  (4177, 358)\t1\n",
      "  (4177, 831)\t1\n",
      "  (4177, 2046)\t1\n",
      "  (4177, 2704)\t1\n",
      "  (4177, 3585)\t1\n",
      "  (4177, 3623)\t1\n",
      "  (4177, 4130)\t1\n",
      "  (4177, 4315)\t1\n",
      "  (4177, 4771)\t1\n",
      "  (4177, 5234)\t1\n",
      "  (4177, 5321)\t1\n",
      "  (4177, 5487)\t1\n",
      "  (4177, 5620)\t1\n",
      "  (4177, 6321)\t1\n",
      "  (4177, 6374)\t1\n",
      "  (4177, 6453)\t1\n",
      "  (4178, 1643)\t1\n",
      "  (4178, 5817)\t1\n"
     ]
    }
   ],
   "source": [
    "print(X_train_transformed)"
   ]
  },
  {
   "cell_type": "code",
   "execution_count": 18,
   "metadata": {},
   "outputs": [],
   "source": [
    "from sklearn.naive_bayes import MultinomialNB"
   ]
  },
  {
   "cell_type": "code",
   "execution_count": 19,
   "metadata": {},
   "outputs": [],
   "source": [
    "mnb = MultinomialNB()\n",
    "mnb.fit(X_train_transformed, y_train)\n",
    "\n",
    "y_pred_class = mnb.predict(X_test_transformed)\n",
    "y_pred_proba = mnb.predict_proba(X_test_transformed)"
   ]
  },
  {
   "cell_type": "code",
   "execution_count": 20,
   "metadata": {},
   "outputs": [
    {
     "data": {
      "text/html": [
       "<style>#sk-container-id-2 {color: black;background-color: white;}#sk-container-id-2 pre{padding: 0;}#sk-container-id-2 div.sk-toggleable {background-color: white;}#sk-container-id-2 label.sk-toggleable__label {cursor: pointer;display: block;width: 100%;margin-bottom: 0;padding: 0.3em;box-sizing: border-box;text-align: center;}#sk-container-id-2 label.sk-toggleable__label-arrow:before {content: \"▸\";float: left;margin-right: 0.25em;color: #696969;}#sk-container-id-2 label.sk-toggleable__label-arrow:hover:before {color: black;}#sk-container-id-2 div.sk-estimator:hover label.sk-toggleable__label-arrow:before {color: black;}#sk-container-id-2 div.sk-toggleable__content {max-height: 0;max-width: 0;overflow: hidden;text-align: left;background-color: #f0f8ff;}#sk-container-id-2 div.sk-toggleable__content pre {margin: 0.2em;color: black;border-radius: 0.25em;background-color: #f0f8ff;}#sk-container-id-2 input.sk-toggleable__control:checked~div.sk-toggleable__content {max-height: 200px;max-width: 100%;overflow: auto;}#sk-container-id-2 input.sk-toggleable__control:checked~label.sk-toggleable__label-arrow:before {content: \"▾\";}#sk-container-id-2 div.sk-estimator input.sk-toggleable__control:checked~label.sk-toggleable__label {background-color: #d4ebff;}#sk-container-id-2 div.sk-label input.sk-toggleable__control:checked~label.sk-toggleable__label {background-color: #d4ebff;}#sk-container-id-2 input.sk-hidden--visually {border: 0;clip: rect(1px 1px 1px 1px);clip: rect(1px, 1px, 1px, 1px);height: 1px;margin: -1px;overflow: hidden;padding: 0;position: absolute;width: 1px;}#sk-container-id-2 div.sk-estimator {font-family: monospace;background-color: #f0f8ff;border: 1px dotted black;border-radius: 0.25em;box-sizing: border-box;margin-bottom: 0.5em;}#sk-container-id-2 div.sk-estimator:hover {background-color: #d4ebff;}#sk-container-id-2 div.sk-parallel-item::after {content: \"\";width: 100%;border-bottom: 1px solid gray;flex-grow: 1;}#sk-container-id-2 div.sk-label:hover label.sk-toggleable__label {background-color: #d4ebff;}#sk-container-id-2 div.sk-serial::before {content: \"\";position: absolute;border-left: 1px solid gray;box-sizing: border-box;top: 0;bottom: 0;left: 50%;z-index: 0;}#sk-container-id-2 div.sk-serial {display: flex;flex-direction: column;align-items: center;background-color: white;padding-right: 0.2em;padding-left: 0.2em;position: relative;}#sk-container-id-2 div.sk-item {position: relative;z-index: 1;}#sk-container-id-2 div.sk-parallel {display: flex;align-items: stretch;justify-content: center;background-color: white;position: relative;}#sk-container-id-2 div.sk-item::before, #sk-container-id-2 div.sk-parallel-item::before {content: \"\";position: absolute;border-left: 1px solid gray;box-sizing: border-box;top: 0;bottom: 0;left: 50%;z-index: -1;}#sk-container-id-2 div.sk-parallel-item {display: flex;flex-direction: column;z-index: 1;position: relative;background-color: white;}#sk-container-id-2 div.sk-parallel-item:first-child::after {align-self: flex-end;width: 50%;}#sk-container-id-2 div.sk-parallel-item:last-child::after {align-self: flex-start;width: 50%;}#sk-container-id-2 div.sk-parallel-item:only-child::after {width: 0;}#sk-container-id-2 div.sk-dashed-wrapped {border: 1px dashed gray;margin: 0 0.4em 0.5em 0.4em;box-sizing: border-box;padding-bottom: 0.4em;background-color: white;}#sk-container-id-2 div.sk-label label {font-family: monospace;font-weight: bold;display: inline-block;line-height: 1.2em;}#sk-container-id-2 div.sk-label-container {text-align: center;}#sk-container-id-2 div.sk-container {/* jupyter's `normalize.less` sets `[hidden] { display: none; }` but bootstrap.min.css set `[hidden] { display: none !important; }` so we also need the `!important` here to be able to override the default hidden behavior on the sphinx rendered scikit-learn.org. See: https://github.com/scikit-learn/scikit-learn/issues/21755 */display: inline-block !important;position: relative;}#sk-container-id-2 div.sk-text-repr-fallback {display: none;}</style><div id=\"sk-container-id-2\" class=\"sk-top-container\"><div class=\"sk-text-repr-fallback\"><pre>MultinomialNB()</pre><b>In a Jupyter environment, please rerun this cell to show the HTML representation or trust the notebook. <br />On GitHub, the HTML representation is unable to render, please try loading this page with nbviewer.org.</b></div><div class=\"sk-container\" hidden><div class=\"sk-item\"><div class=\"sk-estimator sk-toggleable\"><input class=\"sk-toggleable__control sk-hidden--visually\" id=\"sk-estimator-id-2\" type=\"checkbox\" checked><label for=\"sk-estimator-id-2\" class=\"sk-toggleable__label sk-toggleable__label-arrow\">MultinomialNB</label><div class=\"sk-toggleable__content\"><pre>MultinomialNB()</pre></div></div></div></div></div>"
      ],
      "text/plain": [
       "MultinomialNB()"
      ]
     },
     "execution_count": 20,
     "metadata": {},
     "output_type": "execute_result"
    }
   ],
   "source": [
    "mnb"
   ]
  },
  {
   "cell_type": "code",
   "execution_count": 21,
   "metadata": {},
   "outputs": [],
   "source": [
    "from sklearn import metrics"
   ]
  },
  {
   "cell_type": "code",
   "execution_count": 25,
   "metadata": {},
   "outputs": [
    {
     "data": {
      "text/plain": [
       "0.9877961234745154"
      ]
     },
     "execution_count": 25,
     "metadata": {},
     "output_type": "execute_result"
    }
   ],
   "source": [
    "metrics.accuracy_score(y_test, y_pred_class)"
   ]
  },
  {
   "cell_type": "code",
   "execution_count": 26,
   "metadata": {},
   "outputs": [
    {
     "data": {
      "text/plain": [
       "array([[1201,    7],\n",
       "       [  10,  175]], dtype=int64)"
      ]
     },
     "execution_count": 26,
     "metadata": {},
     "output_type": "execute_result"
    }
   ],
   "source": [
    "metrics.confusion_matrix(y_test, y_pred_class)"
   ]
  },
  {
   "cell_type": "code",
   "execution_count": 30,
   "metadata": {},
   "outputs": [
    {
     "name": "stdout",
     "output_type": "stream",
     "text": [
      "[[1201    7]\n",
      " [  10  175]]\n"
     ]
    }
   ],
   "source": [
    "confusion = metrics.confusion_matrix(y_test, y_pred_class)\n",
    "print(confusion)"
   ]
  },
  {
   "cell_type": "code",
   "execution_count": 31,
   "metadata": {},
   "outputs": [
    {
     "data": {
      "text/plain": [
       "0.9459459459459459"
      ]
     },
     "execution_count": 31,
     "metadata": {},
     "output_type": "execute_result"
    }
   ],
   "source": [
    "metrics.recall_score(\n",
    "    y_test,y_pred_class\n",
    ")"
   ]
  },
  {
   "cell_type": "code",
   "execution_count": 32,
   "metadata": {},
   "outputs": [
    {
     "data": {
      "text/plain": [
       "0.9942052980132451"
      ]
     },
     "execution_count": 32,
     "metadata": {},
     "output_type": "execute_result"
    }
   ],
   "source": [
    "from imblearn.metrics import specificity_score\n",
    "specificity_score(y_test,y_pred_class)"
   ]
  },
  {
   "cell_type": "code",
   "execution_count": 33,
   "metadata": {},
   "outputs": [
    {
     "data": {
      "text/plain": [
       "0.9615384615384616"
      ]
     },
     "execution_count": 33,
     "metadata": {},
     "output_type": "execute_result"
    }
   ],
   "source": [
    "metrics.precision_score(y_test,y_pred_class)"
   ]
  },
  {
   "cell_type": "code",
   "execution_count": 35,
   "metadata": {},
   "outputs": [
    {
     "data": {
      "text/plain": [
       "0.9536784741144414"
      ]
     },
     "execution_count": 35,
     "metadata": {},
     "output_type": "execute_result"
    }
   ],
   "source": [
    "metrics.f1_score(y_test,y_pred_class)"
   ]
  },
  {
   "cell_type": "code",
   "execution_count": 36,
   "metadata": {},
   "outputs": [
    {
     "data": {
      "text/plain": [
       "array([0, 0, 0, ..., 0, 1, 0], dtype=int64)"
      ]
     },
     "execution_count": 36,
     "metadata": {},
     "output_type": "execute_result"
    }
   ],
   "source": [
    "y_pred_class"
   ]
  },
  {
   "cell_type": "code",
   "execution_count": 37,
   "metadata": {},
   "outputs": [
    {
     "data": {
      "text/plain": [
       "array([[9.95239557e-01, 4.76044325e-03],\n",
       "       [9.99852357e-01, 1.47642544e-04],\n",
       "       [9.27878579e-01, 7.21214213e-02],\n",
       "       ...,\n",
       "       [9.99999671e-01, 3.28799076e-07],\n",
       "       [3.72703622e-09, 9.99999996e-01],\n",
       "       [9.99999985e-01, 1.46852511e-08]])"
      ]
     },
     "execution_count": 37,
     "metadata": {},
     "output_type": "execute_result"
    }
   ],
   "source": [
    "y_pred_proba # second column is for 1 which is spam"
   ]
  },
  {
   "cell_type": "code",
   "execution_count": 40,
   "metadata": {},
   "outputs": [],
   "source": [
    "from sklearn.metrics import confusion_matrix as sk_confusion_matrix\n",
    "from sklearn.metrics import roc_curve, auc\n",
    "import matplotlib.pyplot as plt\n",
    "\n",
    "fpr, tpr , thresholds = roc_curve(y_test,y_pred_proba[:,1])\n",
    "roc_auc = auc(fpr,tpr)"
   ]
  },
  {
   "cell_type": "code",
   "execution_count": 41,
   "metadata": {},
   "outputs": [
    {
     "name": "stdout",
     "output_type": "stream",
     "text": [
      "0.9921872203329157\n"
     ]
    }
   ],
   "source": [
    "print(roc_auc)"
   ]
  },
  {
   "cell_type": "code",
   "execution_count": 44,
   "metadata": {},
   "outputs": [
    {
     "data": {
      "text/html": [
       "<div>\n",
       "<style scoped>\n",
       "    .dataframe tbody tr th:only-of-type {\n",
       "        vertical-align: middle;\n",
       "    }\n",
       "\n",
       "    .dataframe tbody tr th {\n",
       "        vertical-align: top;\n",
       "    }\n",
       "\n",
       "    .dataframe thead th {\n",
       "        text-align: right;\n",
       "    }\n",
       "</style>\n",
       "<table border=\"1\" class=\"dataframe\">\n",
       "  <thead>\n",
       "    <tr style=\"text-align: right;\">\n",
       "      <th></th>\n",
       "      <th>fpr</th>\n",
       "      <th>tpr</th>\n",
       "      <th>Threshold</th>\n",
       "    </tr>\n",
       "  </thead>\n",
       "  <tbody>\n",
       "    <tr>\n",
       "      <th>0</th>\n",
       "      <td>0.000000</td>\n",
       "      <td>0.000000</td>\n",
       "      <td>2.000000e+00</td>\n",
       "    </tr>\n",
       "    <tr>\n",
       "      <th>1</th>\n",
       "      <td>0.000000</td>\n",
       "      <td>0.308108</td>\n",
       "      <td>1.000000e+00</td>\n",
       "    </tr>\n",
       "    <tr>\n",
       "      <th>2</th>\n",
       "      <td>0.000000</td>\n",
       "      <td>0.313514</td>\n",
       "      <td>1.000000e+00</td>\n",
       "    </tr>\n",
       "    <tr>\n",
       "      <th>3</th>\n",
       "      <td>0.000000</td>\n",
       "      <td>0.335135</td>\n",
       "      <td>1.000000e+00</td>\n",
       "    </tr>\n",
       "    <tr>\n",
       "      <th>4</th>\n",
       "      <td>0.000000</td>\n",
       "      <td>0.340541</td>\n",
       "      <td>1.000000e+00</td>\n",
       "    </tr>\n",
       "    <tr>\n",
       "      <th>...</th>\n",
       "      <td>...</td>\n",
       "      <td>...</td>\n",
       "      <td>...</td>\n",
       "    </tr>\n",
       "    <tr>\n",
       "      <th>105</th>\n",
       "      <td>0.959437</td>\n",
       "      <td>1.000000</td>\n",
       "      <td>6.325596e-13</td>\n",
       "    </tr>\n",
       "    <tr>\n",
       "      <th>106</th>\n",
       "      <td>0.961093</td>\n",
       "      <td>1.000000</td>\n",
       "      <td>6.086604e-13</td>\n",
       "    </tr>\n",
       "    <tr>\n",
       "      <th>107</th>\n",
       "      <td>0.970199</td>\n",
       "      <td>1.000000</td>\n",
       "      <td>4.174215e-14</td>\n",
       "    </tr>\n",
       "    <tr>\n",
       "      <th>108</th>\n",
       "      <td>0.972682</td>\n",
       "      <td>1.000000</td>\n",
       "      <td>3.968331e-14</td>\n",
       "    </tr>\n",
       "    <tr>\n",
       "      <th>109</th>\n",
       "      <td>1.000000</td>\n",
       "      <td>1.000000</td>\n",
       "      <td>6.227131e-41</td>\n",
       "    </tr>\n",
       "  </tbody>\n",
       "</table>\n",
       "<p>110 rows × 3 columns</p>\n",
       "</div>"
      ],
      "text/plain": [
       "          fpr       tpr     Threshold\n",
       "0    0.000000  0.000000  2.000000e+00\n",
       "1    0.000000  0.308108  1.000000e+00\n",
       "2    0.000000  0.313514  1.000000e+00\n",
       "3    0.000000  0.335135  1.000000e+00\n",
       "4    0.000000  0.340541  1.000000e+00\n",
       "..        ...       ...           ...\n",
       "105  0.959437  1.000000  6.325596e-13\n",
       "106  0.961093  1.000000  6.086604e-13\n",
       "107  0.970199  1.000000  4.174215e-14\n",
       "108  0.972682  1.000000  3.968331e-14\n",
       "109  1.000000  1.000000  6.227131e-41\n",
       "\n",
       "[110 rows x 3 columns]"
      ]
     },
     "execution_count": 44,
     "metadata": {},
     "output_type": "execute_result"
    }
   ],
   "source": [
    "pd.DataFrame({'fpr':fpr,\n",
    "            'tpr': tpr,\n",
    "            'Threshold': thresholds\n",
    "              })"
   ]
  },
  {
   "cell_type": "code",
   "execution_count": 46,
   "metadata": {},
   "outputs": [
    {
     "data": {
      "text/plain": [
       "[<matplotlib.lines.Line2D at 0x1b777858fd0>]"
      ]
     },
     "execution_count": 46,
     "metadata": {},
     "output_type": "execute_result"
    },
    {
     "data": {
      "image/png": "[encoded data removed]",
      "text/plain": [
       "<Figure size 640x480 with 1 Axes>"
      ]
     },
     "metadata": {},
     "output_type": "display_data"
    }
   ],
   "source": [
    "%matplotlib inline\n",
    "plt.ylabel(\"TPR\")   \n",
    "plt.xlabel(\"fpr\")\n",
    "plt.title(\"roc curve\")\n",
    "plt.plot(fpr,tpr)"
   ]
  },
  {
   "attachments": {},
   "cell_type": "markdown",
   "metadata": {},
   "source": [
    "# Now making model again using bernaulli naive Bayes"
   ]
  },
  {
   "cell_type": "code",
   "execution_count": 62,
   "metadata": {},
   "outputs": [
    {
     "name": "stdout",
     "output_type": "stream",
     "text": [
      "BernoulliNB      mutlinomial \n",
      "0.9770279971284996 0.9877961234745154\n"
     ]
    }
   ],
   "source": [
    "from sklearn.naive_bayes import BernoulliNB\n",
    "from sklearn import metrics\n",
    "bnb = BernoulliNB()\n",
    "bnb.fit(X_train_transformed, y_train)\n",
    "\n",
    "y_pred_class_bnb = bnb.predict(X_test_transformed)\n",
    "y_pred_prob_bnb = bnb.predict_proba(X_test_transformed)\n",
    "print(\"BernoulliNB      mutlinomial \")    \n",
    "print(metrics.accuracy_score(y_test, y_pred_class_bnb), metrics.accuracy_score(y_test,y_pred_class))"
   ]
  },
  {
   "cell_type": "code",
   "execution_count": 63,
   "metadata": {},
   "outputs": [
    {
     "data": {
      "text/html": [
       "<style>#sk-container-id-4 {color: black;background-color: white;}#sk-container-id-4 pre{padding: 0;}#sk-container-id-4 div.sk-toggleable {background-color: white;}#sk-container-id-4 label.sk-toggleable__label {cursor: pointer;display: block;width: 100%;margin-bottom: 0;padding: 0.3em;box-sizing: border-box;text-align: center;}#sk-container-id-4 label.sk-toggleable__label-arrow:before {content: \"▸\";float: left;margin-right: 0.25em;color: #696969;}#sk-container-id-4 label.sk-toggleable__label-arrow:hover:before {color: black;}#sk-container-id-4 div.sk-estimator:hover label.sk-toggleable__label-arrow:before {color: black;}#sk-container-id-4 div.sk-toggleable__content {max-height: 0;max-width: 0;overflow: hidden;text-align: left;background-color: #f0f8ff;}#sk-container-id-4 div.sk-toggleable__content pre {margin: 0.2em;color: black;border-radius: 0.25em;background-color: #f0f8ff;}#sk-container-id-4 input.sk-toggleable__control:checked~div.sk-toggleable__content {max-height: 200px;max-width: 100%;overflow: auto;}#sk-container-id-4 input.sk-toggleable__control:checked~label.sk-toggleable__label-arrow:before {content: \"▾\";}#sk-container-id-4 div.sk-estimator input.sk-toggleable__control:checked~label.sk-toggleable__label {background-color: #d4ebff;}#sk-container-id-4 div.sk-label input.sk-toggleable__control:checked~label.sk-toggleable__label {background-color: #d4ebff;}#sk-container-id-4 input.sk-hidden--visually {border: 0;clip: rect(1px 1px 1px 1px);clip: rect(1px, 1px, 1px, 1px);height: 1px;margin: -1px;overflow: hidden;padding: 0;position: absolute;width: 1px;}#sk-container-id-4 div.sk-estimator {font-family: monospace;background-color: #f0f8ff;border: 1px dotted black;border-radius: 0.25em;box-sizing: border-box;margin-bottom: 0.5em;}#sk-container-id-4 div.sk-estimator:hover {background-color: #d4ebff;}#sk-container-id-4 div.sk-parallel-item::after {content: \"\";width: 100%;border-bottom: 1px solid gray;flex-grow: 1;}#sk-container-id-4 div.sk-label:hover label.sk-toggleable__label {background-color: #d4ebff;}#sk-container-id-4 div.sk-serial::before {content: \"\";position: absolute;border-left: 1px solid gray;box-sizing: border-box;top: 0;bottom: 0;left: 50%;z-index: 0;}#sk-container-id-4 div.sk-serial {display: flex;flex-direction: column;align-items: center;background-color: white;padding-right: 0.2em;padding-left: 0.2em;position: relative;}#sk-container-id-4 div.sk-item {position: relative;z-index: 1;}#sk-container-id-4 div.sk-parallel {display: flex;align-items: stretch;justify-content: center;background-color: white;position: relative;}#sk-container-id-4 div.sk-item::before, #sk-container-id-4 div.sk-parallel-item::before {content: \"\";position: absolute;border-left: 1px solid gray;box-sizing: border-box;top: 0;bottom: 0;left: 50%;z-index: -1;}#sk-container-id-4 div.sk-parallel-item {display: flex;flex-direction: column;z-index: 1;position: relative;background-color: white;}#sk-container-id-4 div.sk-parallel-item:first-child::after {align-self: flex-end;width: 50%;}#sk-container-id-4 div.sk-parallel-item:last-child::after {align-self: flex-start;width: 50%;}#sk-container-id-4 div.sk-parallel-item:only-child::after {width: 0;}#sk-container-id-4 div.sk-dashed-wrapped {border: 1px dashed gray;margin: 0 0.4em 0.5em 0.4em;box-sizing: border-box;padding-bottom: 0.4em;background-color: white;}#sk-container-id-4 div.sk-label label {font-family: monospace;font-weight: bold;display: inline-block;line-height: 1.2em;}#sk-container-id-4 div.sk-label-container {text-align: center;}#sk-container-id-4 div.sk-container {/* jupyter's `normalize.less` sets `[hidden] { display: none; }` but bootstrap.min.css set `[hidden] { display: none !important; }` so we also need the `!important` here to be able to override the default hidden behavior on the sphinx rendered scikit-learn.org. See: https://github.com/scikit-learn/scikit-learn/issues/21755 */display: inline-block !important;position: relative;}#sk-container-id-4 div.sk-text-repr-fallback {display: none;}</style><div id=\"sk-container-id-4\" class=\"sk-top-container\"><div class=\"sk-text-repr-fallback\"><pre>BernoulliNB()</pre><b>In a Jupyter environment, please rerun this cell to show the HTML representation or trust the notebook. <br />On GitHub, the HTML representation is unable to render, please try loading this page with nbviewer.org.</b></div><div class=\"sk-container\" hidden><div class=\"sk-item\"><div class=\"sk-estimator sk-toggleable\"><input class=\"sk-toggleable__control sk-hidden--visually\" id=\"sk-estimator-id-4\" type=\"checkbox\" checked><label for=\"sk-estimator-id-4\" class=\"sk-toggleable__label sk-toggleable__label-arrow\">BernoulliNB</label><div class=\"sk-toggleable__content\"><pre>BernoulliNB()</pre></div></div></div></div></div>"
      ],
      "text/plain": [
       "BernoulliNB()"
      ]
     },
     "execution_count": 63,
     "metadata": {},
     "output_type": "execute_result"
    }
   ],
   "source": [
    "bnb\n"
   ]
  },
  {
   "cell_type": "code",
   "execution_count": 64,
   "metadata": {},
   "outputs": [
    {
     "data": {
      "text/plain": [
       "0.8324324324324325"
      ]
     },
     "execution_count": 64,
     "metadata": {},
     "output_type": "execute_result"
    }
   ],
   "source": [
    "metrics.recall_score(y_test, y_pred_class_bnb)"
   ]
  },
  {
   "cell_type": "code",
   "execution_count": 65,
   "metadata": {},
   "outputs": [
    {
     "data": {
      "text/plain": [
       "0.9991721854304636"
      ]
     },
     "execution_count": 65,
     "metadata": {},
     "output_type": "execute_result"
    }
   ],
   "source": [
    "from imblearn.metrics import specificity_score\n",
    "specificity_score(y_test, y_pred_class_bnb)"
   ]
  },
  {
   "cell_type": "code",
   "execution_count": 66,
   "metadata": {},
   "outputs": [
    {
     "data": {
      "text/plain": [
       "0.9935483870967742"
      ]
     },
     "execution_count": 66,
     "metadata": {},
     "output_type": "execute_result"
    }
   ],
   "source": [
    "import sklearn\n",
    "sklearn.metrics.precision_score(y_test, y_pred_class_bnb)"
   ]
  },
  {
   "cell_type": "code",
   "execution_count": 67,
   "metadata": {},
   "outputs": [
    {
     "data": {
      "text/plain": [
       "0.9058823529411765"
      ]
     },
     "execution_count": 67,
     "metadata": {},
     "output_type": "execute_result"
    }
   ],
   "source": [
    "sklearn.metrics.f1_score(y_test, y_pred_class_bnb)"
   ]
  },
  {
   "cell_type": "code",
   "execution_count": 68,
   "metadata": {},
   "outputs": [],
   "source": [
    "fpr_bnb, tpr_bnb, thresholds_bnb = roc_curve(y_test, y_pred_prob_bnb[:,1])\n",
    "roc_auc_bnb = auc(fpr_bnb,tpr_bnb)"
   ]
  },
  {
   "cell_type": "code",
   "execution_count": 70,
   "metadata": {},
   "outputs": [
    {
     "name": "stdout",
     "output_type": "stream",
     "text": [
      "0.9967692858421334\n"
     ]
    }
   ],
   "source": [
    "print(roc_auc_bnb)"
   ]
  },
  {
   "cell_type": "code",
   "execution_count": 72,
   "metadata": {},
   "outputs": [
    {
     "data": {
      "text/plain": [
       "[<matplotlib.lines.Line2D at 0x1b778081490>]"
      ]
     },
     "execution_count": 72,
     "metadata": {},
     "output_type": "execute_result"
    },
    {
     "data": {
      "image/png": "[encoded data removed]",
      "text/plain": [
       "<Figure size 640x480 with 1 Axes>"
      ]
     },
     "metadata": {},
     "output_type": "display_data"
    }
   ],
   "source": [
    "%matplotlib inline\n",
    "plt.ylabel('True Positive Rate')\n",
    "plt.xlabel('False Positive Rate')\n",
    "plt.title('ROC')\n",
    "plt.plot(fpr_bnb,tpr_bnb)\n",
    "plt.plot(fpr,tpr)\n",
    "# multinomial and bernaulli"
   ]
  },
  {
   "cell_type": "code",
   "execution_count": null,
   "metadata": {},
   "outputs": [],
   "source": []
  }
 ],
 "metadata": {
  "kernelspec": {
   "display_name": "base",
   "language": "python",
   "name": "python3"
  },
  "language_info": {
   "codemirror_mode": {
    "name": "ipython",
    "version": 3
   },
   "file_extension": ".py",
   "mimetype": "text/x-python",
   "name": "python",
   "nbconvert_exporter": "python",
   "pygments_lexer": "ipython3",
   "version": "3.9.15"
  },
  "orig_nbformat": 4
 },
 "nbformat": 4,
 "nbformat_minor": 2
}
